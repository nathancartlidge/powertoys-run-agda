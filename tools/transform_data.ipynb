{
 "cells": [
  {
   "cell_type": "markdown",
   "metadata": {},
   "source": [
    "# Mappings Transformation\n",
    "\n",
    "Convert the Emacs Lisp definition of each mapping into a C# Dictionary"
   ]
  },
  {
   "cell_type": "code",
   "execution_count": null,
   "metadata": {},
   "outputs": [],
   "source": [
    "import re"
   ]
  },
  {
   "cell_type": "code",
   "execution_count": null,
   "metadata": {},
   "outputs": [],
   "source": [
    "# load the raw data\n",
    "with open(\"../assets/mappings.txt\", \"r\", encoding=\"utf-8\") as f:\n",
    "    lines = f.readlines()\n",
    "\n",
    "len(lines)"
   ]
  },
  {
   "cell_type": "code",
   "execution_count": null,
   "metadata": {},
   "outputs": [],
   "source": [
    "# strip whitespace, filter blank lines\n",
    "lines = [l_s for l in lines if (l_s := l.strip())]\n",
    "len(lines)"
   ]
  },
  {
   "cell_type": "code",
   "execution_count": null,
   "metadata": {},
   "outputs": [],
   "source": [
    "# filter out comments\n",
    "lines = [l for l in lines if not l.startswith(\";;\")]\n",
    "len(lines)"
   ]
  },
  {
   "cell_type": "code",
   "execution_count": null,
   "metadata": {},
   "outputs": [],
   "source": [
    "# sanity check\n",
    "lines[0:5]"
   ]
  },
  {
   "cell_type": "code",
   "execution_count": null,
   "metadata": {},
   "outputs": [],
   "source": [
    "# Extract key-value pairs\n",
    "matcher = re.compile(r'\"(.*?)\"(?:.*?)\"(.*?)\"')\n",
    "matcher.findall(lines[0])"
   ]
  },
  {
   "cell_type": "code",
   "execution_count": null,
   "metadata": {},
   "outputs": [],
   "source": [
    "lookup = {k: v for line in lines for k, v in matcher.findall(line)}\n",
    "lookup"
   ]
  },
  {
   "cell_type": "code",
   "execution_count": null,
   "metadata": {},
   "outputs": [],
   "source": [
    "lookup[\"\\\\\\\\\"] = lookup.pop(\"\\\\\")"
   ]
  },
  {
   "cell_type": "code",
   "execution_count": null,
   "metadata": {},
   "outputs": [],
   "source": [
    "# test querying capability\n",
    "query_matcher = re.compile(r\"^(.*?)(\\d*)$\")\n",
    "\n",
    "def query(i):\n",
    "    key, index = query_matcher.findall(i)[0]\n",
    "    if index:\n",
    "        index = int(index)\n",
    "    else:\n",
    "        index = 1\n",
    "\n",
    "    if key in lookup:\n",
    "        return lookup[key][index - 1]\n",
    "    else:\n",
    "        raise ValueError"
   ]
  },
  {
   "cell_type": "code",
   "execution_count": null,
   "metadata": {},
   "outputs": [],
   "source": [
    "query(\"~=\")"
   ]
  },
  {
   "cell_type": "code",
   "execution_count": null,
   "metadata": {},
   "outputs": [],
   "source": [
    "# export\n",
    "with open(\"../src/nthn.Agda/Lookup.cs\", \"w\", encoding=\"utf-8\") as f:\n",
    "    f.write(\"\"\"using System;\n",
    "using System.Collections.Generic;\n",
    "using System.Text;\n",
    "\n",
    "namespace nthn.Agda\n",
    "{\n",
    "    public class AgdaLookup\n",
    "    {\n",
    "        public Dictionary<string, string> keyValuePairs = new Dictionary<string, string>()\n",
    "        {\n",
    "\"\"\")\n",
    "\n",
    "    total = len(lookup.keys())\n",
    "    for i, (k, v) in enumerate(lookup.items()):\n",
    "        f.write(f\"            {{\\\"{k}\\\", \\\"{v}\\\"}}\")\n",
    "        if i == total - 1:\n",
    "            f.write(\"\\n\")\n",
    "        else:\n",
    "            f.write(\",\\n\")\n",
    "    f.write(\"        };\\n    };\\n}\")"
   ]
  }
 ],
 "metadata": {
  "kernelspec": {
   "display_name": "Python 3",
   "language": "python",
   "name": "python3"
  },
  "language_info": {
   "codemirror_mode": {
    "name": "ipython",
    "version": 3
   },
   "file_extension": ".py",
   "mimetype": "text/x-python",
   "name": "python",
   "nbconvert_exporter": "python",
   "pygments_lexer": "ipython3",
   "version": "3.10.1"
  }
 },
 "nbformat": 4,
 "nbformat_minor": 2
}
