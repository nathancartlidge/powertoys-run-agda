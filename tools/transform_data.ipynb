{
 "cells": [
  {
   "cell_type": "markdown",
   "metadata": {},
   "source": [
    "# Mappings Transformation\n",
    "\n",
    "Convert the Emacs Lisp definition of each mapping into a C# Dictionary"
   ]
  },
  {
   "cell_type": "code",
   "execution_count": null,
   "metadata": {},
   "outputs": [],
   "source": [
    "import re"
   ]
  },
  {
   "cell_type": "code",
   "execution_count": null,
   "metadata": {},
   "outputs": [],
   "source": [
    "# load the raw data\n",
    "# This file was created using `agda-input-show-translations`, with the terminal\n",
    "#  small enough that only a single line could be displayed. this was then saved\n",
    "#  to a file\n",
    "with open(\"../assets/mappings.txt\", \"r\", encoding=\"utf-8\") as f:\n",
    "    _, single_chars, multi_chars = f.read().split(\"-\\n\")"
   ]
  },
  {
   "cell_type": "code",
   "execution_count": null,
   "metadata": {},
   "outputs": [],
   "source": [
    "# single char matches\n",
    "single_matcher = re.compile(r\"\\\\(.*?)\\s+(.{1,4})(?:$|\\n)\")\n",
    "single_char_replacements = single_matcher.findall(single_chars)\n",
    "single_char_replacements"
   ]
  },
  {
   "cell_type": "code",
   "execution_count": null,
   "metadata": {},
   "outputs": [],
   "source": [
    "multi_matcher = re.compile(r\"\\\\(.*?)(?:\\s+)((?:.|\\n\\s+)*)\")\n",
    "multi_multiline_cleanup = re.compile(r\"\\n\\s+\")\n",
    "multi_char_replacements = multi_matcher.findall(multi_chars)\n",
    "multi_char_replacements = [\n",
    "    (k, multi_multiline_cleanup.sub(\" \", v)) for k, v in multi_char_replacements\n",
    "]\n",
    "multi_char_replacements"
   ]
  },
  {
   "cell_type": "code",
   "execution_count": null,
   "metadata": {},
   "outputs": [],
   "source": [
    "lookup = {\n",
    "    k.replace(\"\\\\\", \"\\\\\\\\\").replace(\"\\\"\", \"\\\\\\\"\"): v\n",
    "    for k, v in (single_char_replacements + multi_char_replacements)\n",
    "}\n",
    "PROBLEMATIC_KEYS = (\"\", \"-\", \"newline\")\n",
    "for key in PROBLEMATIC_KEYS:\n",
    "    lookup.pop(key)\n",
    "lookup"
   ]
  },
  {
   "cell_type": "code",
   "execution_count": null,
   "metadata": {},
   "outputs": [],
   "source": [
    "# test querying capability\n",
    "query_matcher = re.compile(r\"^(.*?)(\\d*)$\")\n",
    "\n",
    "def query(i):\n",
    "    key, index = query_matcher.findall(i)[0]\n",
    "    if index:\n",
    "        index = 2 * int(index) - 1\n",
    "    else:\n",
    "        index = 1\n",
    "\n",
    "    if key in lookup:\n",
    "        return lookup[key][index - 1]\n",
    "    else:\n",
    "        raise ValueError"
   ]
  },
  {
   "cell_type": "code",
   "execution_count": null,
   "metadata": {},
   "outputs": [],
   "source": [
    "query(\":4\")"
   ]
  },
  {
   "cell_type": "code",
   "execution_count": null,
   "metadata": {},
   "outputs": [],
   "source": [
    "# export dictionary to Lookup.cs\n",
    "with open(\"Lookup.template.cs\", \"r\", encoding=\"utf-8\") as template:\n",
    "    with open(\"../src/nthn.Agda/Lookup.cs\", \"w\", encoding=\"utf-8\") as output:\n",
    "        output.write(\n",
    "\"\"\"// README: this file was generated from `Lookup.template.cs` in `tools/`. Make sure you apply any edits\n",
    "//         you make to this file to that as well so the edits can be replicated if you regenerate this\n",
    "//         file!\n",
    "\"\"\"\n",
    "        )\n",
    "        template_lines = template.readlines()\n",
    "        for line in template_lines[:9]:\n",
    "            output.write(line)\n",
    "        \n",
    "        total = len(lookup.keys())\n",
    "        for i, (k, v) in enumerate(lookup.items()):\n",
    "            output.write(f\"            {{\\\"{k}\\\", \\\"{v}\\\"}}\")\n",
    "            if i == total - 1:\n",
    "                output.write(\"\\n\")\n",
    "            else:\n",
    "                output.write(\",\\n\")\n",
    "        \n",
    "        for line in template_lines[9:]:\n",
    "            output.write(line)"
   ]
  }
 ],
 "metadata": {
  "kernelspec": {
   "display_name": "Python 3",
   "language": "python",
   "name": "python3"
  },
  "language_info": {
   "codemirror_mode": {
    "name": "ipython",
    "version": 3
   },
   "file_extension": ".py",
   "mimetype": "text/x-python",
   "name": "python",
   "nbconvert_exporter": "python",
   "pygments_lexer": "ipython3",
   "version": "3.10.1"
  }
 },
 "nbformat": 4,
 "nbformat_minor": 2
}
